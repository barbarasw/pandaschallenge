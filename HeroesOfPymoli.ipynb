{
 "cells": [
  {
   "cell_type": "markdown",
   "metadata": {},
   "source": [
    "### Heroes Of Pymoli Data Analysis\n",
    "* Of the 1163 active players, the vast majority are male (84%). There also exists, a smaller, but notable proportion of female players (14%).\n",
    "\n",
    "* Our peak age demographic falls between 20-24 (44.8%) with secondary groups falling between 15-19 (18.60%) and 25-29 (13.4%).  \n",
    "-----"
   ]
  },
  {
   "cell_type": "markdown",
   "metadata": {},
   "source": [
    "### Note\n",
    "* Instructions have been included for each segment. You do not have to follow them exactly, but they are included to help you think through the steps."
   ]
  },
  {
   "cell_type": "code",
   "execution_count": 8,
   "metadata": {},
   "outputs": [
    {
     "data": {
      "text/html": [
       "<div>\n",
       "<style scoped>\n",
       "    .dataframe tbody tr th:only-of-type {\n",
       "        vertical-align: middle;\n",
       "    }\n",
       "\n",
       "    .dataframe tbody tr th {\n",
       "        vertical-align: top;\n",
       "    }\n",
       "\n",
       "    .dataframe thead th {\n",
       "        text-align: right;\n",
       "    }\n",
       "</style>\n",
       "<table border=\"1\" class=\"dataframe\">\n",
       "  <thead>\n",
       "    <tr style=\"text-align: right;\">\n",
       "      <th></th>\n",
       "      <th>Purchase ID</th>\n",
       "      <th>SN</th>\n",
       "      <th>Age</th>\n",
       "      <th>Gender</th>\n",
       "      <th>Item ID</th>\n",
       "      <th>Item Name</th>\n",
       "      <th>Price</th>\n",
       "    </tr>\n",
       "  </thead>\n",
       "  <tbody>\n",
       "    <tr>\n",
       "      <th>0</th>\n",
       "      <td>0</td>\n",
       "      <td>Lisim78</td>\n",
       "      <td>20</td>\n",
       "      <td>Male</td>\n",
       "      <td>108</td>\n",
       "      <td>Extraction, Quickblade Of Trembling Hands</td>\n",
       "      <td>3.53</td>\n",
       "    </tr>\n",
       "    <tr>\n",
       "      <th>1</th>\n",
       "      <td>1</td>\n",
       "      <td>Lisovynya38</td>\n",
       "      <td>40</td>\n",
       "      <td>Male</td>\n",
       "      <td>143</td>\n",
       "      <td>Frenzied Scimitar</td>\n",
       "      <td>1.56</td>\n",
       "    </tr>\n",
       "    <tr>\n",
       "      <th>2</th>\n",
       "      <td>2</td>\n",
       "      <td>Ithergue48</td>\n",
       "      <td>24</td>\n",
       "      <td>Male</td>\n",
       "      <td>92</td>\n",
       "      <td>Final Critic</td>\n",
       "      <td>4.88</td>\n",
       "    </tr>\n",
       "    <tr>\n",
       "      <th>3</th>\n",
       "      <td>3</td>\n",
       "      <td>Chamassasya86</td>\n",
       "      <td>24</td>\n",
       "      <td>Male</td>\n",
       "      <td>100</td>\n",
       "      <td>Blindscythe</td>\n",
       "      <td>3.27</td>\n",
       "    </tr>\n",
       "    <tr>\n",
       "      <th>4</th>\n",
       "      <td>4</td>\n",
       "      <td>Iskosia90</td>\n",
       "      <td>23</td>\n",
       "      <td>Male</td>\n",
       "      <td>131</td>\n",
       "      <td>Fury</td>\n",
       "      <td>1.44</td>\n",
       "    </tr>\n",
       "  </tbody>\n",
       "</table>\n",
       "</div>"
      ],
      "text/plain": [
       "   Purchase ID             SN  Age Gender  Item ID  \\\n",
       "0            0        Lisim78   20   Male      108   \n",
       "1            1    Lisovynya38   40   Male      143   \n",
       "2            2     Ithergue48   24   Male       92   \n",
       "3            3  Chamassasya86   24   Male      100   \n",
       "4            4      Iskosia90   23   Male      131   \n",
       "\n",
       "                                   Item Name  Price  \n",
       "0  Extraction, Quickblade Of Trembling Hands   3.53  \n",
       "1                          Frenzied Scimitar   1.56  \n",
       "2                               Final Critic   4.88  \n",
       "3                                Blindscythe   3.27  \n",
       "4                                       Fury   1.44  "
      ]
     },
     "execution_count": 8,
     "metadata": {},
     "output_type": "execute_result"
    }
   ],
   "source": [
    "# Dependencies and Setup\n",
    "import pandas as pd\n",
    "\n",
    "# File to Load (Remember to Change These)\n",
    "file_to_load = \"purchase_data.csv\"\n",
    "\n",
    "# Read Purchasing File and store into Pandas data frame\n",
    "purchase_data = pd.read_csv(file_to_load)\n",
    "purchase_data.head()"
   ]
  },
  {
   "cell_type": "markdown",
   "metadata": {},
   "source": [
    "## Player Count"
   ]
  },
  {
   "cell_type": "markdown",
   "metadata": {},
   "source": [
    "* Display the total number of players\n"
   ]
  },
  {
   "cell_type": "code",
   "execution_count": 9,
   "metadata": {
    "scrolled": false
   },
   "outputs": [
    {
     "data": {
      "text/html": [
       "<div>\n",
       "<style scoped>\n",
       "    .dataframe tbody tr th:only-of-type {\n",
       "        vertical-align: middle;\n",
       "    }\n",
       "\n",
       "    .dataframe tbody tr th {\n",
       "        vertical-align: top;\n",
       "    }\n",
       "\n",
       "    .dataframe thead th {\n",
       "        text-align: right;\n",
       "    }\n",
       "</style>\n",
       "<table border=\"1\" class=\"dataframe\">\n",
       "  <thead>\n",
       "    <tr style=\"text-align: right;\">\n",
       "      <th></th>\n",
       "      <th>Total Players</th>\n",
       "    </tr>\n",
       "  </thead>\n",
       "  <tbody>\n",
       "    <tr>\n",
       "      <th>0</th>\n",
       "      <td>576</td>\n",
       "    </tr>\n",
       "  </tbody>\n",
       "</table>\n",
       "</div>"
      ],
      "text/plain": [
       "   Total Players\n",
       "0            576"
      ]
     },
     "execution_count": 9,
     "metadata": {},
     "output_type": "execute_result"
    }
   ],
   "source": [
    "total_players = len(purchase_data[\"SN\"].value_counts())\n",
    "player_count = pd.DataFrame({\"Total Players\":[total_players]})\n",
    "player_count"
   ]
  },
  {
   "cell_type": "markdown",
   "metadata": {},
   "source": [
    "## Purchasing Analysis (Total)"
   ]
  },
  {
   "cell_type": "markdown",
   "metadata": {},
   "source": [
    "* Run basic calculations to obtain number of unique items, average price, etc.\n",
    "\n",
    "\n",
    "* Create a summary data frame to hold the results\n",
    "\n",
    "\n",
    "* Optional: give the displayed data cleaner formatting\n",
    "\n",
    "\n",
    "* Display the summary data frame\n"
   ]
  },
  {
   "cell_type": "code",
   "execution_count": 10,
   "metadata": {
    "scrolled": true
   },
   "outputs": [
    {
     "data": {
      "text/html": [
       "<style  type=\"text/css\" >\n",
       "</style><table id=\"T_485d5614_9a55_11ea_bd14_e0accb8b7126\" ><thead>    <tr>        <th class=\"blank level0\" ></th>        <th class=\"col_heading level0 col0\" >Number of Unique Items</th>        <th class=\"col_heading level0 col1\" >Average Price</th>        <th class=\"col_heading level0 col2\" >Number of Purchases</th>        <th class=\"col_heading level0 col3\" >Total Revenue</th>    </tr></thead><tbody>\n",
       "                <tr>\n",
       "                        <th id=\"T_485d5614_9a55_11ea_bd14_e0accb8b7126level0_row0\" class=\"row_heading level0 row0\" >0</th>\n",
       "                        <td id=\"T_485d5614_9a55_11ea_bd14_e0accb8b7126row0_col0\" class=\"data row0 col0\" >179</td>\n",
       "                        <td id=\"T_485d5614_9a55_11ea_bd14_e0accb8b7126row0_col1\" class=\"data row0 col1\" >$3.05</td>\n",
       "                        <td id=\"T_485d5614_9a55_11ea_bd14_e0accb8b7126row0_col2\" class=\"data row0 col2\" >780</td>\n",
       "                        <td id=\"T_485d5614_9a55_11ea_bd14_e0accb8b7126row0_col3\" class=\"data row0 col3\" >$2,379.77</td>\n",
       "            </tr>\n",
       "    </tbody></table>"
      ],
      "text/plain": [
       "<pandas.io.formats.style.Styler at 0x113810410>"
      ]
     },
     "execution_count": 10,
     "metadata": {},
     "output_type": "execute_result"
    }
   ],
   "source": [
    "number_of_unique_items = len((purchase_data[\"Item ID\"]).unique())\n",
    "average_price = (purchase_data[\"Price\"]).mean()\n",
    "number_of_purchases = (purchase_data[\"Purchase ID\"]).count()\n",
    "total_revenue = (purchase_data[\"Price\"]).sum()\n",
    "\n",
    "summary_df = pd.DataFrame({\"Number of Unique Items\":[number_of_unique_items],\n",
    "                           \"Average Price\":[average_price], \n",
    "                           \"Number of Purchases\": [number_of_purchases], \n",
    "                           \"Total Revenue\": [total_revenue]})\n",
    "summary_df.style.format({'Average Price':\"${:,.2f}\",\n",
    "                         'Total Revenue': '${:,.2f}'})\n"
   ]
  },
  {
   "cell_type": "markdown",
   "metadata": {},
   "source": [
    "## Gender Demographics"
   ]
  },
  {
   "cell_type": "markdown",
   "metadata": {},
   "source": [
    "* Percentage and Count of Male Players\n",
    "\n",
    "\n",
    "* Percentage and Count of Female Players\n",
    "\n",
    "\n",
    "* Percentage and Count of Other / Non-Disclosed\n",
    "\n",
    "\n"
   ]
  },
  {
   "cell_type": "code",
   "execution_count": 38,
   "metadata": {},
   "outputs": [
    {
     "data": {
      "text/html": [
       "<div>\n",
       "<style scoped>\n",
       "    .dataframe tbody tr th:only-of-type {\n",
       "        vertical-align: middle;\n",
       "    }\n",
       "\n",
       "    .dataframe tbody tr th {\n",
       "        vertical-align: top;\n",
       "    }\n",
       "\n",
       "    .dataframe thead th {\n",
       "        text-align: right;\n",
       "    }\n",
       "</style>\n",
       "<table border=\"1\" class=\"dataframe\">\n",
       "  <thead>\n",
       "    <tr style=\"text-align: right;\">\n",
       "      <th></th>\n",
       "      <th>Percentage of Players</th>\n",
       "      <th>Total Count</th>\n",
       "    </tr>\n",
       "  </thead>\n",
       "  <tbody>\n",
       "    <tr>\n",
       "      <th>Female</th>\n",
       "      <td>14.062500</td>\n",
       "      <td>81</td>\n",
       "    </tr>\n",
       "    <tr>\n",
       "      <th>Male</th>\n",
       "      <td>84.027778</td>\n",
       "      <td>484</td>\n",
       "    </tr>\n",
       "    <tr>\n",
       "      <th>Other / Non-Disclosed</th>\n",
       "      <td>1.909722</td>\n",
       "      <td>11</td>\n",
       "    </tr>\n",
       "  </tbody>\n",
       "</table>\n",
       "</div>"
      ],
      "text/plain": [
       "                       Percentage of Players  Total Count\n",
       "Female                             14.062500           81\n",
       "Male                               84.027778          484\n",
       "Other / Non-Disclosed               1.909722           11"
      ]
     },
     "execution_count": 38,
     "metadata": {},
     "output_type": "execute_result"
    }
   ],
   "source": [
    "gender_group = purchase_data.groupby(\"Gender\")\n",
    "count_gender = gender_group.nunique()[\"SN\"]\n",
    "percentage_players = count_gender/total_players * 100\n",
    "\n",
    "gender_dm = pd.DataFrame({\"Percentage of Players\": percentage_players, \"Total Count\":count_gender})\n",
    "gender_dm.index.name = None\n",
    "total_count = gender_dm.sort_values(\"Total Count\", ascending=False)\n",
    "total_percentage = gender_dm[\"Percentage of Players\"].astype(float).map(\"{:,%}\".format)\n",
    "gender_dm.head()"
   ]
  },
  {
   "cell_type": "markdown",
   "metadata": {},
   "source": [
    "\n",
    "## Purchasing Analysis (Gender)"
   ]
  },
  {
   "cell_type": "markdown",
   "metadata": {},
   "source": [
    "* Run basic calculations to obtain purchase count, avg. purchase price, avg. purchase total per person etc. by gender\n",
    "\n",
    "\n",
    "\n",
    "\n",
    "* Create a summary data frame to hold the results\n",
    "\n",
    "\n",
    "* Optional: give the displayed data cleaner formatting\n",
    "\n",
    "\n",
    "* Display the summary data frame"
   ]
  },
  {
   "cell_type": "code",
   "execution_count": 43,
   "metadata": {},
   "outputs": [
    {
     "data": {
      "text/html": [
       "<style  type=\"text/css\" >\n",
       "</style><table id=\"T_b29e5a34_9b0c_11ea_bd14_e0accb8b7126\" ><thead>    <tr>        <th class=\"blank level0\" ></th>        <th class=\"col_heading level0 col0\" >Purchase Count</th>        <th class=\"col_heading level0 col1\" >Average Purchase Price</th>        <th class=\"col_heading level0 col2\" >Total Purchase Value</th>        <th class=\"col_heading level0 col3\" >Avg Total Purchase per person</th>    </tr>    <tr>        <th class=\"index_name level0\" >Gender</th>        <th class=\"blank\" ></th>        <th class=\"blank\" ></th>        <th class=\"blank\" ></th>        <th class=\"blank\" ></th>    </tr></thead><tbody>\n",
       "                <tr>\n",
       "                        <th id=\"T_b29e5a34_9b0c_11ea_bd14_e0accb8b7126level0_row0\" class=\"row_heading level0 row0\" >Female</th>\n",
       "                        <td id=\"T_b29e5a34_9b0c_11ea_bd14_e0accb8b7126row0_col0\" class=\"data row0 col0\" >113</td>\n",
       "                        <td id=\"T_b29e5a34_9b0c_11ea_bd14_e0accb8b7126row0_col1\" class=\"data row0 col1\" >$3.20</td>\n",
       "                        <td id=\"T_b29e5a34_9b0c_11ea_bd14_e0accb8b7126row0_col2\" class=\"data row0 col2\" >361.940000</td>\n",
       "                        <td id=\"T_b29e5a34_9b0c_11ea_bd14_e0accb8b7126row0_col3\" class=\"data row0 col3\" >4.468395</td>\n",
       "            </tr>\n",
       "            <tr>\n",
       "                        <th id=\"T_b29e5a34_9b0c_11ea_bd14_e0accb8b7126level0_row1\" class=\"row_heading level0 row1\" >Male</th>\n",
       "                        <td id=\"T_b29e5a34_9b0c_11ea_bd14_e0accb8b7126row1_col0\" class=\"data row1 col0\" >652</td>\n",
       "                        <td id=\"T_b29e5a34_9b0c_11ea_bd14_e0accb8b7126row1_col1\" class=\"data row1 col1\" >$3.02</td>\n",
       "                        <td id=\"T_b29e5a34_9b0c_11ea_bd14_e0accb8b7126row1_col2\" class=\"data row1 col2\" >1967.640000</td>\n",
       "                        <td id=\"T_b29e5a34_9b0c_11ea_bd14_e0accb8b7126row1_col3\" class=\"data row1 col3\" >4.065372</td>\n",
       "            </tr>\n",
       "            <tr>\n",
       "                        <th id=\"T_b29e5a34_9b0c_11ea_bd14_e0accb8b7126level0_row2\" class=\"row_heading level0 row2\" >Other / Non-Disclosed</th>\n",
       "                        <td id=\"T_b29e5a34_9b0c_11ea_bd14_e0accb8b7126row2_col0\" class=\"data row2 col0\" >15</td>\n",
       "                        <td id=\"T_b29e5a34_9b0c_11ea_bd14_e0accb8b7126row2_col1\" class=\"data row2 col1\" >$3.35</td>\n",
       "                        <td id=\"T_b29e5a34_9b0c_11ea_bd14_e0accb8b7126row2_col2\" class=\"data row2 col2\" >50.190000</td>\n",
       "                        <td id=\"T_b29e5a34_9b0c_11ea_bd14_e0accb8b7126row2_col3\" class=\"data row2 col3\" >4.562727</td>\n",
       "            </tr>\n",
       "    </tbody></table>"
      ],
      "text/plain": [
       "<pandas.io.formats.style.Styler at 0x113976f90>"
      ]
     },
     "execution_count": 43,
     "metadata": {},
     "output_type": "execute_result"
    }
   ],
   "source": [
    "purchase_count = gender_group[\"Purchase ID\"].count()\n",
    "avg_purchase = gender_group[\"Price\"].mean()\n",
    "avg_purchase_total = gender_group[\"Price\"].sum()\n",
    "avg_purchase_person = avg_purchase_total/count_gender\n",
    "gender_dm = pd.DataFrame({\"Purchase Count\": purchase_count, \"Average Purchase Price\": avg_purchase, \"Total Purchase Value\": avg_purchase_total,\n",
    "   \"Total Purchase Value\": avg_purchase_total, \"Avg Total Purchase per person\": avg_purchase_person})\n",
    "\n",
    "gender_dm.index.name = \"Gender\"\n",
    "gender_dm.style.format({\"Average Purchase Value\":\"${:,.2f}\",\n",
    "                                  \"Average Purchase Price\":\"${:,.2f}\",\n",
    "                                  \"Avg Purchase Total per Person\":\"${:,.2f}\"})\n"
   ]
  },
  {
   "cell_type": "markdown",
   "metadata": {},
   "source": [
    "## Age Demographics"
   ]
  },
  {
   "cell_type": "markdown",
   "metadata": {},
   "source": [
    "* Establish bins for ages\n",
    "\n",
    "\n",
    "* Categorize the existing players using the age bins. Hint: use pd.cut()\n",
    "\n",
    "\n",
    "* Calculate the numbers and percentages by age group\n",
    "\n",
    "\n",
    "* Create a summary data frame to hold the results\n",
    "\n",
    "\n",
    "* Optional: round the percentage column to two decimal points\n",
    "\n",
    "\n",
    "* Display Age Demographics Table\n"
   ]
  },
  {
   "cell_type": "code",
   "execution_count": 44,
   "metadata": {},
   "outputs": [
    {
     "data": {
      "text/html": [
       "<style  type=\"text/css\" >\n",
       "</style><table id=\"T_1aaa48e0_9b0d_11ea_bd14_e0accb8b7126\" ><thead>    <tr>        <th class=\"blank level0\" ></th>        <th class=\"col_heading level0 col0\" >Percentage of Players</th>        <th class=\"col_heading level0 col1\" >Total Count</th>    </tr></thead><tbody>\n",
       "                <tr>\n",
       "                        <th id=\"T_1aaa48e0_9b0d_11ea_bd14_e0accb8b7126level0_row0\" class=\"row_heading level0 row0\" ><10</th>\n",
       "                        <td id=\"T_1aaa48e0_9b0d_11ea_bd14_e0accb8b7126row0_col0\" class=\"data row0 col0\" >2.95</td>\n",
       "                        <td id=\"T_1aaa48e0_9b0d_11ea_bd14_e0accb8b7126row0_col1\" class=\"data row0 col1\" >17</td>\n",
       "            </tr>\n",
       "            <tr>\n",
       "                        <th id=\"T_1aaa48e0_9b0d_11ea_bd14_e0accb8b7126level0_row1\" class=\"row_heading level0 row1\" >10-14</th>\n",
       "                        <td id=\"T_1aaa48e0_9b0d_11ea_bd14_e0accb8b7126row1_col0\" class=\"data row1 col0\" >3.82</td>\n",
       "                        <td id=\"T_1aaa48e0_9b0d_11ea_bd14_e0accb8b7126row1_col1\" class=\"data row1 col1\" >22</td>\n",
       "            </tr>\n",
       "            <tr>\n",
       "                        <th id=\"T_1aaa48e0_9b0d_11ea_bd14_e0accb8b7126level0_row2\" class=\"row_heading level0 row2\" >15-19</th>\n",
       "                        <td id=\"T_1aaa48e0_9b0d_11ea_bd14_e0accb8b7126row2_col0\" class=\"data row2 col0\" >18.58</td>\n",
       "                        <td id=\"T_1aaa48e0_9b0d_11ea_bd14_e0accb8b7126row2_col1\" class=\"data row2 col1\" >107</td>\n",
       "            </tr>\n",
       "            <tr>\n",
       "                        <th id=\"T_1aaa48e0_9b0d_11ea_bd14_e0accb8b7126level0_row3\" class=\"row_heading level0 row3\" >20-24</th>\n",
       "                        <td id=\"T_1aaa48e0_9b0d_11ea_bd14_e0accb8b7126row3_col0\" class=\"data row3 col0\" >44.79</td>\n",
       "                        <td id=\"T_1aaa48e0_9b0d_11ea_bd14_e0accb8b7126row3_col1\" class=\"data row3 col1\" >258</td>\n",
       "            </tr>\n",
       "            <tr>\n",
       "                        <th id=\"T_1aaa48e0_9b0d_11ea_bd14_e0accb8b7126level0_row4\" class=\"row_heading level0 row4\" >25-29</th>\n",
       "                        <td id=\"T_1aaa48e0_9b0d_11ea_bd14_e0accb8b7126row4_col0\" class=\"data row4 col0\" >13.37</td>\n",
       "                        <td id=\"T_1aaa48e0_9b0d_11ea_bd14_e0accb8b7126row4_col1\" class=\"data row4 col1\" >77</td>\n",
       "            </tr>\n",
       "            <tr>\n",
       "                        <th id=\"T_1aaa48e0_9b0d_11ea_bd14_e0accb8b7126level0_row5\" class=\"row_heading level0 row5\" >30-34</th>\n",
       "                        <td id=\"T_1aaa48e0_9b0d_11ea_bd14_e0accb8b7126row5_col0\" class=\"data row5 col0\" >9.03</td>\n",
       "                        <td id=\"T_1aaa48e0_9b0d_11ea_bd14_e0accb8b7126row5_col1\" class=\"data row5 col1\" >52</td>\n",
       "            </tr>\n",
       "            <tr>\n",
       "                        <th id=\"T_1aaa48e0_9b0d_11ea_bd14_e0accb8b7126level0_row6\" class=\"row_heading level0 row6\" >35-39</th>\n",
       "                        <td id=\"T_1aaa48e0_9b0d_11ea_bd14_e0accb8b7126row6_col0\" class=\"data row6 col0\" >5.38</td>\n",
       "                        <td id=\"T_1aaa48e0_9b0d_11ea_bd14_e0accb8b7126row6_col1\" class=\"data row6 col1\" >31</td>\n",
       "            </tr>\n",
       "            <tr>\n",
       "                        <th id=\"T_1aaa48e0_9b0d_11ea_bd14_e0accb8b7126level0_row7\" class=\"row_heading level0 row7\" >40+</th>\n",
       "                        <td id=\"T_1aaa48e0_9b0d_11ea_bd14_e0accb8b7126row7_col0\" class=\"data row7 col0\" >2.08</td>\n",
       "                        <td id=\"T_1aaa48e0_9b0d_11ea_bd14_e0accb8b7126row7_col1\" class=\"data row7 col1\" >12</td>\n",
       "            </tr>\n",
       "    </tbody></table>"
      ],
      "text/plain": [
       "<pandas.io.formats.style.Styler at 0x114dc8650>"
      ]
     },
     "execution_count": 44,
     "metadata": {},
     "output_type": "execute_result"
    }
   ],
   "source": [
    "age_bins = [0, 9.90, 14.90, 19.90, 24.90, 29.90, 34.90, 39.90, 99999]\n",
    "group_names = [\"<10\", \"10-14\", \"15-19\", \"20-24\", \"25-29\", \"30-34\", \"35-39\", \"40+\"]\n",
    "purchase_data[\"Age Group\"] = pd.cut(purchase_data[\"Age\"],age_bins, labels=group_names)\n",
    "purchase_data\n",
    "age_grouped = purchase_data.groupby(\"Age Group\")\n",
    "total_count_age = age_grouped[\"SN\"].nunique()\n",
    "percentage_by_age = (total_count_age/total_players) * 100\n",
    "age_demographics = pd.DataFrame({\"Percentage of Players\": percentage_by_age, \"Total Count\": total_count_age})\n",
    "age_demographics.index.name = None\n",
    "age_demographics.style.format({\"Percentage of Players\":\"{:,.2f}\"})\n"
   ]
  },
  {
   "cell_type": "markdown",
   "metadata": {},
   "source": [
    "## Purchasing Analysis (Age)"
   ]
  },
  {
   "cell_type": "markdown",
   "metadata": {},
   "source": [
    "* Bin the purchase_data data frame by age\n",
    "\n",
    "\n",
    "* Run basic calculations to obtain purchase count, avg. purchase price, avg. purchase total per person etc. in the table below\n",
    "\n",
    "\n",
    "* Create a summary data frame to hold the results\n",
    "\n",
    "\n",
    "* Optional: give the displayed data cleaner formatting\n",
    "\n",
    "\n",
    "* Display the summary data frame"
   ]
  },
  {
   "cell_type": "code",
   "execution_count": 45,
   "metadata": {},
   "outputs": [
    {
     "data": {
      "text/html": [
       "<style  type=\"text/css\" >\n",
       "</style><table id=\"T_a0194972_9b0d_11ea_bd14_e0accb8b7126\" ><thead>    <tr>        <th class=\"blank level0\" ></th>        <th class=\"col_heading level0 col0\" >Purchase Count</th>        <th class=\"col_heading level0 col1\" >Average Purchase Price</th>        <th class=\"col_heading level0 col2\" >Total Purchase Value</th>        <th class=\"col_heading level0 col3\" >Average Purchase Total per Person</th>    </tr></thead><tbody>\n",
       "                <tr>\n",
       "                        <th id=\"T_a0194972_9b0d_11ea_bd14_e0accb8b7126level0_row0\" class=\"row_heading level0 row0\" ><10</th>\n",
       "                        <td id=\"T_a0194972_9b0d_11ea_bd14_e0accb8b7126row0_col0\" class=\"data row0 col0\" >23</td>\n",
       "                        <td id=\"T_a0194972_9b0d_11ea_bd14_e0accb8b7126row0_col1\" class=\"data row0 col1\" >$3.35</td>\n",
       "                        <td id=\"T_a0194972_9b0d_11ea_bd14_e0accb8b7126row0_col2\" class=\"data row0 col2\" >$77.13</td>\n",
       "                        <td id=\"T_a0194972_9b0d_11ea_bd14_e0accb8b7126row0_col3\" class=\"data row0 col3\" >$4.54</td>\n",
       "            </tr>\n",
       "            <tr>\n",
       "                        <th id=\"T_a0194972_9b0d_11ea_bd14_e0accb8b7126level0_row1\" class=\"row_heading level0 row1\" >10-14</th>\n",
       "                        <td id=\"T_a0194972_9b0d_11ea_bd14_e0accb8b7126row1_col0\" class=\"data row1 col0\" >28</td>\n",
       "                        <td id=\"T_a0194972_9b0d_11ea_bd14_e0accb8b7126row1_col1\" class=\"data row1 col1\" >$2.96</td>\n",
       "                        <td id=\"T_a0194972_9b0d_11ea_bd14_e0accb8b7126row1_col2\" class=\"data row1 col2\" >$82.78</td>\n",
       "                        <td id=\"T_a0194972_9b0d_11ea_bd14_e0accb8b7126row1_col3\" class=\"data row1 col3\" >$3.76</td>\n",
       "            </tr>\n",
       "            <tr>\n",
       "                        <th id=\"T_a0194972_9b0d_11ea_bd14_e0accb8b7126level0_row2\" class=\"row_heading level0 row2\" >15-19</th>\n",
       "                        <td id=\"T_a0194972_9b0d_11ea_bd14_e0accb8b7126row2_col0\" class=\"data row2 col0\" >136</td>\n",
       "                        <td id=\"T_a0194972_9b0d_11ea_bd14_e0accb8b7126row2_col1\" class=\"data row2 col1\" >$3.04</td>\n",
       "                        <td id=\"T_a0194972_9b0d_11ea_bd14_e0accb8b7126row2_col2\" class=\"data row2 col2\" >$412.89</td>\n",
       "                        <td id=\"T_a0194972_9b0d_11ea_bd14_e0accb8b7126row2_col3\" class=\"data row2 col3\" >$3.86</td>\n",
       "            </tr>\n",
       "            <tr>\n",
       "                        <th id=\"T_a0194972_9b0d_11ea_bd14_e0accb8b7126level0_row3\" class=\"row_heading level0 row3\" >20-24</th>\n",
       "                        <td id=\"T_a0194972_9b0d_11ea_bd14_e0accb8b7126row3_col0\" class=\"data row3 col0\" >365</td>\n",
       "                        <td id=\"T_a0194972_9b0d_11ea_bd14_e0accb8b7126row3_col1\" class=\"data row3 col1\" >$3.05</td>\n",
       "                        <td id=\"T_a0194972_9b0d_11ea_bd14_e0accb8b7126row3_col2\" class=\"data row3 col2\" >$1,114.06</td>\n",
       "                        <td id=\"T_a0194972_9b0d_11ea_bd14_e0accb8b7126row3_col3\" class=\"data row3 col3\" >$4.32</td>\n",
       "            </tr>\n",
       "            <tr>\n",
       "                        <th id=\"T_a0194972_9b0d_11ea_bd14_e0accb8b7126level0_row4\" class=\"row_heading level0 row4\" >25-29</th>\n",
       "                        <td id=\"T_a0194972_9b0d_11ea_bd14_e0accb8b7126row4_col0\" class=\"data row4 col0\" >101</td>\n",
       "                        <td id=\"T_a0194972_9b0d_11ea_bd14_e0accb8b7126row4_col1\" class=\"data row4 col1\" >$2.90</td>\n",
       "                        <td id=\"T_a0194972_9b0d_11ea_bd14_e0accb8b7126row4_col2\" class=\"data row4 col2\" >$293.00</td>\n",
       "                        <td id=\"T_a0194972_9b0d_11ea_bd14_e0accb8b7126row4_col3\" class=\"data row4 col3\" >$3.81</td>\n",
       "            </tr>\n",
       "            <tr>\n",
       "                        <th id=\"T_a0194972_9b0d_11ea_bd14_e0accb8b7126level0_row5\" class=\"row_heading level0 row5\" >30-34</th>\n",
       "                        <td id=\"T_a0194972_9b0d_11ea_bd14_e0accb8b7126row5_col0\" class=\"data row5 col0\" >73</td>\n",
       "                        <td id=\"T_a0194972_9b0d_11ea_bd14_e0accb8b7126row5_col1\" class=\"data row5 col1\" >$2.93</td>\n",
       "                        <td id=\"T_a0194972_9b0d_11ea_bd14_e0accb8b7126row5_col2\" class=\"data row5 col2\" >$214.00</td>\n",
       "                        <td id=\"T_a0194972_9b0d_11ea_bd14_e0accb8b7126row5_col3\" class=\"data row5 col3\" >$4.12</td>\n",
       "            </tr>\n",
       "            <tr>\n",
       "                        <th id=\"T_a0194972_9b0d_11ea_bd14_e0accb8b7126level0_row6\" class=\"row_heading level0 row6\" >35-39</th>\n",
       "                        <td id=\"T_a0194972_9b0d_11ea_bd14_e0accb8b7126row6_col0\" class=\"data row6 col0\" >41</td>\n",
       "                        <td id=\"T_a0194972_9b0d_11ea_bd14_e0accb8b7126row6_col1\" class=\"data row6 col1\" >$3.60</td>\n",
       "                        <td id=\"T_a0194972_9b0d_11ea_bd14_e0accb8b7126row6_col2\" class=\"data row6 col2\" >$147.67</td>\n",
       "                        <td id=\"T_a0194972_9b0d_11ea_bd14_e0accb8b7126row6_col3\" class=\"data row6 col3\" >$4.76</td>\n",
       "            </tr>\n",
       "            <tr>\n",
       "                        <th id=\"T_a0194972_9b0d_11ea_bd14_e0accb8b7126level0_row7\" class=\"row_heading level0 row7\" >40+</th>\n",
       "                        <td id=\"T_a0194972_9b0d_11ea_bd14_e0accb8b7126row7_col0\" class=\"data row7 col0\" >13</td>\n",
       "                        <td id=\"T_a0194972_9b0d_11ea_bd14_e0accb8b7126row7_col1\" class=\"data row7 col1\" >$2.94</td>\n",
       "                        <td id=\"T_a0194972_9b0d_11ea_bd14_e0accb8b7126row7_col2\" class=\"data row7 col2\" >$38.24</td>\n",
       "                        <td id=\"T_a0194972_9b0d_11ea_bd14_e0accb8b7126row7_col3\" class=\"data row7 col3\" >$3.19</td>\n",
       "            </tr>\n",
       "    </tbody></table>"
      ],
      "text/plain": [
       "<pandas.io.formats.style.Styler at 0x114dc8350>"
      ]
     },
     "execution_count": 45,
     "metadata": {},
     "output_type": "execute_result"
    }
   ],
   "source": [
    "purchase_count_age = age_grouped[\"Purchase ID\"].count()\n",
    "avg_purchase_price_age = age_grouped[\"Price\"].mean()\n",
    "total_purchase_value = age_grouped[\"Price\"].sum()\n",
    "avg_purchase_per_person_age = total_purchase_value/total_count_age\n",
    "age_demographics = pd.DataFrame({\"Purchase Count\": purchase_count_age,\n",
    "                                 \"Average Purchase Price\": avg_purchase_price_age,\n",
    "                                 \"Total Purchase Value\":total_purchase_value,\n",
    "                                 \"Average Purchase Total per Person\": avg_purchase_per_person_age})\n",
    "age_demographics.index.name = None\n",
    "age_demographics.style.format({\"Average Purchase Price\":\"${:,.2f}\",\n",
    "                               \"Total Purchase Value\":\"${:,.2f}\",\n",
    "                               \"Average Purchase Total per Person\":\"${:,.2f}\"})"
   ]
  },
  {
   "cell_type": "markdown",
   "metadata": {},
   "source": [
    "## Top Spenders"
   ]
  },
  {
   "cell_type": "markdown",
   "metadata": {},
   "source": [
    "* Run basic calculations to obtain the results in the table below\n",
    "\n",
    "\n",
    "* Create a summary data frame to hold the results\n",
    "\n",
    "\n",
    "* Sort the total purchase value column in descending order\n",
    "\n",
    "\n",
    "* Optional: give the displayed data cleaner formatting\n",
    "\n",
    "\n",
    "* Display a preview of the summary data frame\n",
    "\n"
   ]
  },
  {
   "cell_type": "code",
   "execution_count": 46,
   "metadata": {},
   "outputs": [
    {
     "data": {
      "text/html": [
       "<style  type=\"text/css\" >\n",
       "</style><table id=\"T_c9310b2e_9b0d_11ea_bd14_e0accb8b7126\" ><thead>    <tr>        <th class=\"blank level0\" ></th>        <th class=\"col_heading level0 col0\" >Purchase Count</th>        <th class=\"col_heading level0 col1\" >Average Purchase Price</th>        <th class=\"col_heading level0 col2\" >Total Purchase Value</th>    </tr>    <tr>        <th class=\"index_name level0\" >SN</th>        <th class=\"blank\" ></th>        <th class=\"blank\" ></th>        <th class=\"blank\" ></th>    </tr></thead><tbody>\n",
       "                <tr>\n",
       "                        <th id=\"T_c9310b2e_9b0d_11ea_bd14_e0accb8b7126level0_row0\" class=\"row_heading level0 row0\" >Lisosia93</th>\n",
       "                        <td id=\"T_c9310b2e_9b0d_11ea_bd14_e0accb8b7126row0_col0\" class=\"data row0 col0\" >5</td>\n",
       "                        <td id=\"T_c9310b2e_9b0d_11ea_bd14_e0accb8b7126row0_col1\" class=\"data row0 col1\" >$3.79</td>\n",
       "                        <td id=\"T_c9310b2e_9b0d_11ea_bd14_e0accb8b7126row0_col2\" class=\"data row0 col2\" >$18.96</td>\n",
       "            </tr>\n",
       "            <tr>\n",
       "                        <th id=\"T_c9310b2e_9b0d_11ea_bd14_e0accb8b7126level0_row1\" class=\"row_heading level0 row1\" >Idastidru52</th>\n",
       "                        <td id=\"T_c9310b2e_9b0d_11ea_bd14_e0accb8b7126row1_col0\" class=\"data row1 col0\" >4</td>\n",
       "                        <td id=\"T_c9310b2e_9b0d_11ea_bd14_e0accb8b7126row1_col1\" class=\"data row1 col1\" >$3.86</td>\n",
       "                        <td id=\"T_c9310b2e_9b0d_11ea_bd14_e0accb8b7126row1_col2\" class=\"data row1 col2\" >$15.45</td>\n",
       "            </tr>\n",
       "            <tr>\n",
       "                        <th id=\"T_c9310b2e_9b0d_11ea_bd14_e0accb8b7126level0_row2\" class=\"row_heading level0 row2\" >Chamjask73</th>\n",
       "                        <td id=\"T_c9310b2e_9b0d_11ea_bd14_e0accb8b7126row2_col0\" class=\"data row2 col0\" >3</td>\n",
       "                        <td id=\"T_c9310b2e_9b0d_11ea_bd14_e0accb8b7126row2_col1\" class=\"data row2 col1\" >$4.61</td>\n",
       "                        <td id=\"T_c9310b2e_9b0d_11ea_bd14_e0accb8b7126row2_col2\" class=\"data row2 col2\" >$13.83</td>\n",
       "            </tr>\n",
       "            <tr>\n",
       "                        <th id=\"T_c9310b2e_9b0d_11ea_bd14_e0accb8b7126level0_row3\" class=\"row_heading level0 row3\" >Iral74</th>\n",
       "                        <td id=\"T_c9310b2e_9b0d_11ea_bd14_e0accb8b7126row3_col0\" class=\"data row3 col0\" >4</td>\n",
       "                        <td id=\"T_c9310b2e_9b0d_11ea_bd14_e0accb8b7126row3_col1\" class=\"data row3 col1\" >$3.40</td>\n",
       "                        <td id=\"T_c9310b2e_9b0d_11ea_bd14_e0accb8b7126row3_col2\" class=\"data row3 col2\" >$13.62</td>\n",
       "            </tr>\n",
       "            <tr>\n",
       "                        <th id=\"T_c9310b2e_9b0d_11ea_bd14_e0accb8b7126level0_row4\" class=\"row_heading level0 row4\" >Iskadarya95</th>\n",
       "                        <td id=\"T_c9310b2e_9b0d_11ea_bd14_e0accb8b7126row4_col0\" class=\"data row4 col0\" >3</td>\n",
       "                        <td id=\"T_c9310b2e_9b0d_11ea_bd14_e0accb8b7126row4_col1\" class=\"data row4 col1\" >$4.37</td>\n",
       "                        <td id=\"T_c9310b2e_9b0d_11ea_bd14_e0accb8b7126row4_col2\" class=\"data row4 col2\" >$13.10</td>\n",
       "            </tr>\n",
       "    </tbody></table>"
      ],
      "text/plain": [
       "<pandas.io.formats.style.Styler at 0x114c39c50>"
      ]
     },
     "execution_count": 46,
     "metadata": {},
     "output_type": "execute_result"
    }
   ],
   "source": [
    "spender_stats = purchase_data.groupby(\"SN\")\n",
    "purchase_count_spender = spender_stats[\"Purchase ID\"].count()\n",
    "avg_purchase_price_spender = spender_stats[\"Price\"].mean()\n",
    "purchase_total_spender = spender_stats[\"Price\"].sum()\n",
    "top_spenders = pd.DataFrame({\"Purchase Count\": purchase_count_spender,\n",
    "                             \"Average Purchase Price\": avg_purchase_price_spender,\n",
    "                             \"Total Purchase Value\":purchase_total_spender})\n",
    "formatted_spenders = top_spenders.sort_values([\"Total Purchase Value\"], ascending=False).head()\n",
    "formatted_spenders.style.format({\"Average Purchase Total\":\"${:,.2f}\",\n",
    "                                 \"Average Purchase Price\":\"${:,.2f}\", \n",
    "                                 \"Total Purchase Value\":\"${:,.2f}\"})"
   ]
  },
  {
   "cell_type": "markdown",
   "metadata": {},
   "source": [
    "## Most Popular Items"
   ]
  },
  {
   "cell_type": "markdown",
   "metadata": {},
   "source": [
    "* Retrieve the Item ID, Item Name, and Item Price columns\n",
    "\n",
    "\n",
    "* Group by Item ID and Item Name. Perform calculations to obtain purchase count, item price, and total purchase value\n",
    "\n",
    "\n",
    "* Create a summary data frame to hold the results\n",
    "\n",
    "\n",
    "* Sort the purchase count column in descending order\n",
    "\n",
    "\n",
    "* Optional: give the displayed data cleaner formatting\n",
    "\n",
    "\n",
    "* Display a preview of the summary data frame\n",
    "\n"
   ]
  },
  {
   "cell_type": "code",
   "execution_count": 47,
   "metadata": {},
   "outputs": [
    {
     "data": {
      "text/html": [
       "<style  type=\"text/css\" >\n",
       "</style><table id=\"T_0c312bd4_9b0e_11ea_bd14_e0accb8b7126\" ><thead>    <tr>        <th class=\"blank\" ></th>        <th class=\"blank level0\" ></th>        <th class=\"col_heading level0 col0\" >Purchase Count</th>        <th class=\"col_heading level0 col1\" >Item Price</th>        <th class=\"col_heading level0 col2\" >Total Purchase Value</th>    </tr>    <tr>        <th class=\"index_name level0\" >Item ID</th>        <th class=\"index_name level1\" >Item Name</th>        <th class=\"blank\" ></th>        <th class=\"blank\" ></th>        <th class=\"blank\" ></th>    </tr></thead><tbody>\n",
       "                <tr>\n",
       "                        <th id=\"T_0c312bd4_9b0e_11ea_bd14_e0accb8b7126level0_row0\" class=\"row_heading level0 row0\" >92</th>\n",
       "                        <th id=\"T_0c312bd4_9b0e_11ea_bd14_e0accb8b7126level1_row0\" class=\"row_heading level1 row0\" >Final Critic</th>\n",
       "                        <td id=\"T_0c312bd4_9b0e_11ea_bd14_e0accb8b7126row0_col0\" class=\"data row0 col0\" >13</td>\n",
       "                        <td id=\"T_0c312bd4_9b0e_11ea_bd14_e0accb8b7126row0_col1\" class=\"data row0 col1\" >$4.61</td>\n",
       "                        <td id=\"T_0c312bd4_9b0e_11ea_bd14_e0accb8b7126row0_col2\" class=\"data row0 col2\" >$59.99</td>\n",
       "            </tr>\n",
       "            <tr>\n",
       "                        <th id=\"T_0c312bd4_9b0e_11ea_bd14_e0accb8b7126level0_row1\" class=\"row_heading level0 row1\" >178</th>\n",
       "                        <th id=\"T_0c312bd4_9b0e_11ea_bd14_e0accb8b7126level1_row1\" class=\"row_heading level1 row1\" >Oathbreaker, Last Hope of the Breaking Storm</th>\n",
       "                        <td id=\"T_0c312bd4_9b0e_11ea_bd14_e0accb8b7126row1_col0\" class=\"data row1 col0\" >12</td>\n",
       "                        <td id=\"T_0c312bd4_9b0e_11ea_bd14_e0accb8b7126row1_col1\" class=\"data row1 col1\" >$4.23</td>\n",
       "                        <td id=\"T_0c312bd4_9b0e_11ea_bd14_e0accb8b7126row1_col2\" class=\"data row1 col2\" >$50.76</td>\n",
       "            </tr>\n",
       "            <tr>\n",
       "                        <th id=\"T_0c312bd4_9b0e_11ea_bd14_e0accb8b7126level0_row2\" class=\"row_heading level0 row2\" >145</th>\n",
       "                        <th id=\"T_0c312bd4_9b0e_11ea_bd14_e0accb8b7126level1_row2\" class=\"row_heading level1 row2\" >Fiery Glass Crusader</th>\n",
       "                        <td id=\"T_0c312bd4_9b0e_11ea_bd14_e0accb8b7126row2_col0\" class=\"data row2 col0\" >9</td>\n",
       "                        <td id=\"T_0c312bd4_9b0e_11ea_bd14_e0accb8b7126row2_col1\" class=\"data row2 col1\" >$4.58</td>\n",
       "                        <td id=\"T_0c312bd4_9b0e_11ea_bd14_e0accb8b7126row2_col2\" class=\"data row2 col2\" >$41.22</td>\n",
       "            </tr>\n",
       "            <tr>\n",
       "                        <th id=\"T_0c312bd4_9b0e_11ea_bd14_e0accb8b7126level0_row3\" class=\"row_heading level0 row3\" >132</th>\n",
       "                        <th id=\"T_0c312bd4_9b0e_11ea_bd14_e0accb8b7126level1_row3\" class=\"row_heading level1 row3\" >Persuasion</th>\n",
       "                        <td id=\"T_0c312bd4_9b0e_11ea_bd14_e0accb8b7126row3_col0\" class=\"data row3 col0\" >9</td>\n",
       "                        <td id=\"T_0c312bd4_9b0e_11ea_bd14_e0accb8b7126row3_col1\" class=\"data row3 col1\" >$3.22</td>\n",
       "                        <td id=\"T_0c312bd4_9b0e_11ea_bd14_e0accb8b7126row3_col2\" class=\"data row3 col2\" >$28.99</td>\n",
       "            </tr>\n",
       "            <tr>\n",
       "                        <th id=\"T_0c312bd4_9b0e_11ea_bd14_e0accb8b7126level0_row4\" class=\"row_heading level0 row4\" >108</th>\n",
       "                        <th id=\"T_0c312bd4_9b0e_11ea_bd14_e0accb8b7126level1_row4\" class=\"row_heading level1 row4\" >Extraction, Quickblade Of Trembling Hands</th>\n",
       "                        <td id=\"T_0c312bd4_9b0e_11ea_bd14_e0accb8b7126row4_col0\" class=\"data row4 col0\" >9</td>\n",
       "                        <td id=\"T_0c312bd4_9b0e_11ea_bd14_e0accb8b7126row4_col1\" class=\"data row4 col1\" >$3.53</td>\n",
       "                        <td id=\"T_0c312bd4_9b0e_11ea_bd14_e0accb8b7126row4_col2\" class=\"data row4 col2\" >$31.77</td>\n",
       "            </tr>\n",
       "    </tbody></table>"
      ],
      "text/plain": [
       "<pandas.io.formats.style.Styler at 0x114dc89d0>"
      ]
     },
     "execution_count": 47,
     "metadata": {},
     "output_type": "execute_result"
    }
   ],
   "source": [
    "items = purchase_data[[\"Item ID\", \"Item Name\", \"Price\"]]\n",
    "item_stats = items.groupby([\"Item ID\",\"Item Name\"])\n",
    "purchase_count_item = item_stats[\"Price\"].count()\n",
    "purchase_value = (item_stats[\"Price\"].sum())\n",
    "item_price = purchase_value/purchase_count_item\n",
    "most_popular_items = pd.DataFrame({\"Purchase Count\": purchase_count_item, \n",
    "                                   \"Item Price\": item_price,\n",
    "                                   \"Total Purchase Value\":purchase_value})\n",
    "popular_formatted = most_popular_items.sort_values([\"Purchase Count\"], ascending=False).head()\n",
    "popular_formatted.style.format({\"Item Price\":\"${:,.2f}\",\n",
    "                                \"Total Purchase Value\":\"${:,.2f}\"})"
   ]
  },
  {
   "cell_type": "markdown",
   "metadata": {},
   "source": [
    "## Most Profitable Items"
   ]
  },
  {
   "cell_type": "markdown",
   "metadata": {},
   "source": [
    "* Sort the above table by total purchase value in descending order\n",
    "\n",
    "\n",
    "* Optional: give the displayed data cleaner formatting\n",
    "\n",
    "\n",
    "* Display a preview of the data frame\n",
    "\n"
   ]
  },
  {
   "cell_type": "code",
   "execution_count": 48,
   "metadata": {
    "scrolled": true
   },
   "outputs": [
    {
     "data": {
      "text/html": [
       "<style  type=\"text/css\" >\n",
       "</style><table id=\"T_1829a3ee_9b0e_11ea_bd14_e0accb8b7126\" ><thead>    <tr>        <th class=\"blank\" ></th>        <th class=\"blank level0\" ></th>        <th class=\"col_heading level0 col0\" >Purchase Count</th>        <th class=\"col_heading level0 col1\" >Item Price</th>        <th class=\"col_heading level0 col2\" >Total Purchase Value</th>    </tr>    <tr>        <th class=\"index_name level0\" >Item ID</th>        <th class=\"index_name level1\" >Item Name</th>        <th class=\"blank\" ></th>        <th class=\"blank\" ></th>        <th class=\"blank\" ></th>    </tr></thead><tbody>\n",
       "                <tr>\n",
       "                        <th id=\"T_1829a3ee_9b0e_11ea_bd14_e0accb8b7126level0_row0\" class=\"row_heading level0 row0\" >92</th>\n",
       "                        <th id=\"T_1829a3ee_9b0e_11ea_bd14_e0accb8b7126level1_row0\" class=\"row_heading level1 row0\" >Final Critic</th>\n",
       "                        <td id=\"T_1829a3ee_9b0e_11ea_bd14_e0accb8b7126row0_col0\" class=\"data row0 col0\" >13</td>\n",
       "                        <td id=\"T_1829a3ee_9b0e_11ea_bd14_e0accb8b7126row0_col1\" class=\"data row0 col1\" >$4.61</td>\n",
       "                        <td id=\"T_1829a3ee_9b0e_11ea_bd14_e0accb8b7126row0_col2\" class=\"data row0 col2\" >$59.99</td>\n",
       "            </tr>\n",
       "            <tr>\n",
       "                        <th id=\"T_1829a3ee_9b0e_11ea_bd14_e0accb8b7126level0_row1\" class=\"row_heading level0 row1\" >178</th>\n",
       "                        <th id=\"T_1829a3ee_9b0e_11ea_bd14_e0accb8b7126level1_row1\" class=\"row_heading level1 row1\" >Oathbreaker, Last Hope of the Breaking Storm</th>\n",
       "                        <td id=\"T_1829a3ee_9b0e_11ea_bd14_e0accb8b7126row1_col0\" class=\"data row1 col0\" >12</td>\n",
       "                        <td id=\"T_1829a3ee_9b0e_11ea_bd14_e0accb8b7126row1_col1\" class=\"data row1 col1\" >$4.23</td>\n",
       "                        <td id=\"T_1829a3ee_9b0e_11ea_bd14_e0accb8b7126row1_col2\" class=\"data row1 col2\" >$50.76</td>\n",
       "            </tr>\n",
       "            <tr>\n",
       "                        <th id=\"T_1829a3ee_9b0e_11ea_bd14_e0accb8b7126level0_row2\" class=\"row_heading level0 row2\" >82</th>\n",
       "                        <th id=\"T_1829a3ee_9b0e_11ea_bd14_e0accb8b7126level1_row2\" class=\"row_heading level1 row2\" >Nirvana</th>\n",
       "                        <td id=\"T_1829a3ee_9b0e_11ea_bd14_e0accb8b7126row2_col0\" class=\"data row2 col0\" >9</td>\n",
       "                        <td id=\"T_1829a3ee_9b0e_11ea_bd14_e0accb8b7126row2_col1\" class=\"data row2 col1\" >$4.90</td>\n",
       "                        <td id=\"T_1829a3ee_9b0e_11ea_bd14_e0accb8b7126row2_col2\" class=\"data row2 col2\" >$44.10</td>\n",
       "            </tr>\n",
       "            <tr>\n",
       "                        <th id=\"T_1829a3ee_9b0e_11ea_bd14_e0accb8b7126level0_row3\" class=\"row_heading level0 row3\" >145</th>\n",
       "                        <th id=\"T_1829a3ee_9b0e_11ea_bd14_e0accb8b7126level1_row3\" class=\"row_heading level1 row3\" >Fiery Glass Crusader</th>\n",
       "                        <td id=\"T_1829a3ee_9b0e_11ea_bd14_e0accb8b7126row3_col0\" class=\"data row3 col0\" >9</td>\n",
       "                        <td id=\"T_1829a3ee_9b0e_11ea_bd14_e0accb8b7126row3_col1\" class=\"data row3 col1\" >$4.58</td>\n",
       "                        <td id=\"T_1829a3ee_9b0e_11ea_bd14_e0accb8b7126row3_col2\" class=\"data row3 col2\" >$41.22</td>\n",
       "            </tr>\n",
       "            <tr>\n",
       "                        <th id=\"T_1829a3ee_9b0e_11ea_bd14_e0accb8b7126level0_row4\" class=\"row_heading level0 row4\" >103</th>\n",
       "                        <th id=\"T_1829a3ee_9b0e_11ea_bd14_e0accb8b7126level1_row4\" class=\"row_heading level1 row4\" >Singed Scalpel</th>\n",
       "                        <td id=\"T_1829a3ee_9b0e_11ea_bd14_e0accb8b7126row4_col0\" class=\"data row4 col0\" >8</td>\n",
       "                        <td id=\"T_1829a3ee_9b0e_11ea_bd14_e0accb8b7126row4_col1\" class=\"data row4 col1\" >$4.35</td>\n",
       "                        <td id=\"T_1829a3ee_9b0e_11ea_bd14_e0accb8b7126row4_col2\" class=\"data row4 col2\" >$34.80</td>\n",
       "            </tr>\n",
       "    </tbody></table>"
      ],
      "text/plain": [
       "<pandas.io.formats.style.Styler at 0x114c43cd0>"
      ]
     },
     "execution_count": 48,
     "metadata": {},
     "output_type": "execute_result"
    }
   ],
   "source": [
    "popular_formatted = most_popular_items.sort_values([\"Total Purchase Value\"],\n",
    "                                                   ascending=False).head()\n",
    "popular_formatted.style.format({\"Item Price\":\"${:,.2f}\",\n",
    "                                \"Total Purchase Value\":\"${:,.2f}\"})"
   ]
  }
 ],
 "metadata": {
  "anaconda-cloud": {},
  "kernel_info": {
   "name": "python3"
  },
  "kernelspec": {
   "display_name": "Python [conda env:DATA] *",
   "language": "python",
   "name": "conda-env-DATA-py"
  },
  "language_info": {
   "codemirror_mode": {
    "name": "ipython",
    "version": 3
   },
   "file_extension": ".py",
   "mimetype": "text/x-python",
   "name": "python",
   "nbconvert_exporter": "python",
   "pygments_lexer": "ipython3",
   "version": "3.7.7"
  },
  "latex_envs": {
   "LaTeX_envs_menu_present": true,
   "autoclose": false,
   "autocomplete": true,
   "bibliofile": "biblio.bib",
   "cite_by": "apalike",
   "current_citInitial": 1,
   "eqLabelWithNumbers": true,
   "eqNumInitial": 1,
   "hotkeys": {
    "equation": "Ctrl-E",
    "itemize": "Ctrl-I"
   },
   "labels_anchors": false,
   "latex_user_defs": false,
   "report_style_numbering": false,
   "user_envs_cfg": false
  },
  "nteract": {
   "version": "0.2.0"
  }
 },
 "nbformat": 4,
 "nbformat_minor": 2
}
